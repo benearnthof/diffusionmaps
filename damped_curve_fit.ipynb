{
 "cells": [
  {
   "cell_type": "code",
   "execution_count": 1,
   "metadata": {},
   "outputs": [
    {
     "name": "stdout",
     "output_type": "stream",
     "text": [
      "Ready\n"
     ]
    }
   ],
   "source": [
    "# load packages\n",
	"# code taken from http://john.maloney.org/Programming/pythonboing.htm\n",
    "\n",
    "from matplotlib import pyplot as plt\n",
    "import numpy as np\n",
    "from sympy import *\n",
    "from matplotlib.animation import FuncAnimation\n",
    "\n",
    "print(\"Ready\")"
   ]
  },
  {
   "cell_type": "code",
   "execution_count": 2,
   "metadata": {
    "collapsed": true
   },
   "outputs": [],
   "source": [
    "# define figure and axes and set some graphing parameters\n",
    "\n",
    "fig, ax = plt.subplots(figsize = (4, 4))\n",
    "ax.set_aspect(1)\n",
    "plt.rc('font', size = 16)\n",
    "marker_style = dict(linestyle = 'none', markersize = 10, markeredgecolor = 'k')\n",
    "plt.box(on = None)\n",
    "fig.set_facecolor('#c0c0c0')\n",
    "plt.rcParams['savefig.facecolor'] = '#c0c0c0'\n",
    "ax.spines['bottom'].set_position('zero')\n",
    "ax.spines['left'].set_position('zero')"
   ]
  },
  {
   "cell_type": "code",
   "execution_count": 3,
   "metadata": {
    "collapsed": true
   },
   "outputs": [],
   "source": [
    "# plot the axes\n",
    "\n",
    "(min_plot, max_plot) = (0, 10)\n",
    "plt.xticks(np.arange(min_plot, max_plot + 1, 2), fontsize = 10)\n",
    "plt.yticks(np.arange(min_plot, max_plot + 1, 2), fontsize = 10)\n",
    "plt.xlim([min_plot - 1, max_plot + 1])\n",
    "plt.ylim([min_plot - 1, max_plot + 1])\n",
    "ax.annotate('', xy = (min_plot, max_plot + 1), xytext = (min_plot, min_plot - 0.1), \n",
    "\tarrowprops = {'arrowstyle': '->', 'lw': 1, 'facecolor': 'k'}, va = 'center')\n",
    "ax.annotate('', xy = (max_plot + 1, min_plot), xytext = (min_plot - 0.1, min_plot), \n",
    "\tarrowprops = {'arrowstyle': '->', 'lw': 1, 'facecolor': 'k'}, va = 'center', zorder = -1) \n",
    "plt.subplots_adjust(left=0.05, right=0.95, top=0.95, bottom=0.05, wspace=0.0, hspace=0.0)"
   ]
  },
  {
   "cell_type": "code",
   "execution_count": 4,
   "metadata": {
    "collapsed": true
   },
   "outputs": [],
   "source": [
    "# randomly generate some data and add an underlying function to make it interesting\n",
    "\n",
    "no_of_points = 30\n",
    "(mean_x, sd_x) = (5, 5)\n",
    "(mean_y, sd_y) = (6, 0.70)\n",
    "data_x = np.random.normal(mean_x, sd_x, no_of_points)\n",
    "data_y = np.random.normal(mean_y, sd_y, no_of_points)\n",
    "for idx, val in enumerate(data_y): # add an arbitrary cubic function\n",
    "\tdata_y[idx] = (data_y[idx] + (data_x[idx] - (max_plot - min_plot) / 2) / 2\n",
    "\t\t- 1 / 10 * (data_x[idx] - (max_plot - min_plot) / 2)**3)"
   ]
  },
  {
   "cell_type": "code",
   "execution_count": 5,
   "metadata": {
    "collapsed": true
   },
   "outputs": [],
   "source": [
    "# keep only data points that lie inside the plotted area\n",
    "check_limits_array = np.transpose(np.array([data_x, data_y]))\n",
    "data_x = [x[0] for x in check_limits_array if \n",
    "\tmin_plot < x[0] < max_plot and min_plot < x[1] < max_plot]\n",
    "data_y = [x[1] for x in check_limits_array if \n",
    "\tmin_plot < x[0] < max_plot and min_plot < x[1] < max_plot]\n",
    "(average_x, average_y) = (np.average(data_x), np.average(data_y))\n",
    "no_of_points = len(data_x)"
   ]
  },
  {
   "cell_type": "code",
   "execution_count": 6,
   "metadata": {
    "collapsed": true
   },
   "outputs": [],
   "source": [
    "# fit the slope and intercept of the line by least squares\n",
    "# then fit a polynomial and get the x spacing to plot it\n",
    "\n",
    "data_slope, data_intercept = np.polyfit(data_x, data_y, 1)\n",
    "if data_slope == 0: # fix reciprocal problem if the slope is 0\n",
    "\tdata_slope = 1e-6\n",
    "polynomial_degree = 3\n",
    "data_poly_fit = np.polyfit(data_x, data_y, polynomial_degree)\n",
    "data_poly_eval = np.poly1d(data_poly_fit)\n",
    "plot_point_number = 50\n",
    "x_spaced = np.linspace(min_plot, max_plot, plot_point_number)\n"
   ]
  },
  {
   "cell_type": "code",
   "execution_count": 7,
   "metadata": {
    "collapsed": true
   },
   "outputs": [],
   "source": [
    "# pick some initial fitting line properties; \n",
    "# the line will pop up from this arrangement\n",
    "\n",
    "line_intercept_0 = 1\n",
    "line_slope_0 = 0\n",
    "if line_slope_0 == 0: # fix reciprocal problem if the slope is 0\n",
    "\tline_slope_0 = 1e-6"
   ]
  },
  {
   "cell_type": "code",
   "execution_count": 8,
   "metadata": {
    "collapsed": true
   },
   "outputs": [],
   "source": [
    "# write a function to get the distance from any point to the fitting line;\n",
    "# also get the difference in slope between the line and the best fit to the data\n",
    "# and the moving fitting line and return the point \n",
    "# on the fitting line where the perpendicular line should terminate \n",
    "\n",
    "def get_line_distance_and_perp(line_slope, line_intercept, data_point):\n",
    "\t# transform line equation into Hess form\n",
    "\t(w1, w2, b) = (-line_slope, 1, -line_intercept)\n",
    "\t# apply the distance formula d = (wÂ·x+b)/||w|| to get the distance\n",
    "\t# between where we are and where we want to be\n",
    "\tline_distance_diff = (np.array((w1, w2)) @ np.array(data_point) + b) / np.linalg.norm((w1, w2))\n",
    "\t# also get the difference in slope between where we are \n",
    "\t# and where we want to be\n",
    "\tslope_angle_diff = np.arctan2(line_slope, 1)-np.arctan2(data_slope, 1)\n",
    "\tline_perp_slope = -1/line_slope\n",
    "\tline_perp_angle = np.arctan2(line_perp_slope, 1)\n",
    "\t# fix a problem with the connecting lines sometimes pointing in the wrong direction\n",
    "\tline_distance_diff = line_distance_diff * line_slope / abs(line_slope)\n",
    "\t(line_point_x, line_point_y) = (data_point[0] + line_distance_diff * np.cos(line_perp_angle), \n",
    "\t\tdata_point[1] + line_distance_diff * np.sin(line_perp_angle))\n",
    "\treturn line_distance_diff, slope_angle_diff, (line_point_x, line_point_y)"
   ]
  },
  {
   "cell_type": "code",
   "execution_count": 9,
   "metadata": {
    "collapsed": true
   },
   "outputs": [],
   "source": [
    "# run that function to get the initial distance and slope difference information\n",
    "\n",
    "(line_distance_diff, slope_angle_diff) = get_line_distance_and_perp(line_slope_0, \n",
    "\t\tline_intercept_0, (average_x, average_y))[0:2]\n",
    "\t\n",
    "# write an oscillation function that overshoots and then settles down\n",
    "\n",
    "def get_osc_funct(time): # set some spring, mass, damper values that provide pleasing oscillation\n",
    "\tk = 4 # spring value\n",
    "\tm = 1 # mass value\n",
    "\tc = 1.2 # damper value\n",
    "\twn = np.sqrt(k / m) # natural frequency\n",
    "\tz = c / (2 * m * wn) # damping coefficient\n",
    "\twd = np.sqrt(1 - z**2) * wn # damped natural frequency\n",
    "\t# two equivalent functions to find the displacement over time; either works\n",
    "\tosc_funct1 = np.exp(-z * wn * time) * (np.cos(wd * time) + z / np.sqrt(1 - z**2) * np.sin(wd * time))\n",
    "\t# osc_funct2 = np.exp(-z * wn * time) * np.sqrt(1 / (1 - z**2)) * np.cos(wd * time - np.arctan(z / np.sqrt(1 - z**2)))\n",
    "\treturn osc_funct1\n",
    "\n",
    "def get_line(line_distance_diff, slope_angle_diff, data_point, time, parameter):\n",
    "\t# we can apply the pleasing oscillation to either the distance or the slope\n",
    "\tif parameter == \"int\": # here, the distance oscillates; \n",
    "\t# return the appropriate fitting line slope and intercept\n",
    "\t\tline_distance = line_distance_diff * get_osc_funct(time)\n",
    "\t\tline_slope = line_slope_0\n",
    "\t\tline_perp_slope = -1 / line_slope_0\n",
    "\t\tline_perp_angle = np.arctan(line_perp_slope)\n",
    "\t\t(line_point_x, line_point_y) = (data_point[0] + line_distance * np.cos(line_perp_angle), \n",
    "\t\t\tdata_point[1] + line_distance * np.sin(line_perp_angle))\n",
    "\t\tline_intercept = line_point_y - line_slope_0 * line_point_x\n",
    "\telif parameter == \"slope\": # here, the angle oscillates; again, \n",
    "\t# return the appropriate fitting line slope and intercept\n",
    "\t\tslope_angle_difference = slope_angle_diff * get_osc_funct(time)\n",
    "\t\tline_slope = np.tan(slope_angle_difference + np.arctan(data_slope))\n",
    "\t\tline_intercept = data_point[1] - line_slope * data_point[0]\n",
    "\treturn line_slope, line_intercept"
   ]
  },
  {
   "cell_type": "code",
   "execution_count": 10,
   "metadata": {
    "collapsed": true
   },
   "outputs": [],
   "source": [
    "# get the vertical distances between the curve and the straight-line fit;\n",
    "# these vertical distances will oscillate, and a polynomial will be repeatedly fit to them to \n",
    "# produce the transition from the fitted line to the fitted polynomial\n",
    "\n",
    "polynomial_spacing = polynomial_degree + 2 # the number of points used to make the polynomial oscillation smooth\n",
    "poly_x_spaced = np.linspace(min_plot, max_plot, polynomial_spacing)\n",
    "poly_distances = [data_poly_eval(a) - (a * data_slope + data_intercept) for a in poly_x_spaced]"
   ]
  },
  {
   "cell_type": "code",
   "execution_count": 11,
   "metadata": {
    "collapsed": true
   },
   "outputs": [],
   "source": [
    "# write a function to get the best-fitting polynomial as we oscillate around the final polynomial\n",
    "\n",
    "def get_polynomial(data_slope, data_intercept, poly_distances, time):\n",
    "\ttrans_poly_distances = [x * (1 - get_osc_funct(time)) for x in poly_distances]\n",
    "\ttrans_poly_x = [a for a, b in zip(poly_x_spaced, trans_poly_distances)]\n",
    "\ttrans_poly_y = [data_slope * a + data_intercept + b for a, b in zip(poly_x_spaced, trans_poly_distances)]\n",
    "\ttrans_poly_fit = np.polyfit(trans_poly_x, trans_poly_y, polynomial_degree)\n",
    "\ttrans_poly_eval = np.poly1d(trans_poly_fit)\n",
    "\treturn trans_poly_fit, trans_poly_eval"
   ]
  },
  {
   "cell_type": "code",
   "execution_count": 12,
   "metadata": {
    "collapsed": true
   },
   "outputs": [],
   "source": [
    "# write a function to get the closest point between a data point and a polynomial\n",
    "\n",
    "def get_closest_point(poly_fit, poly_eval, data_point):\n",
    "\txx = symbols(\"xx\")\n",
    "\tlist0 = np.ndarray.tolist(poly_fit)\n",
    "\tpoly_fit_sym = Poly(list0, xx)\n",
    "\t# take the derivative of the fitted polynomial\n",
    "\tpoly_deriv_sym = poly_fit_sym.diff(xx)\n",
    "\t# set the following term to zero to minimize the (square of the) distance between the point and polynomial\n",
    "\tequation = xx - data_point[0] + (poly_fit_sym - data_point[1]) * poly_deriv_sym\n",
    "\tcoeff = Poly(equation).all_coeffs()\n",
    "\tsolved = np.roots(coeff)\n",
    "\t# chop any tiny imaginary component arising from the numerical solution\n",
    "\tsolved = solved.real[abs(solved.imag) < 1e-6]\n",
    "\tdist = [(n - data_point[0])**2 + (data_poly_eval(n) - data_point[1])**2 for n in solved] # get distances\n",
    "\tsolved = solved[np.argmin(dist)] # get shortest distance if there's more than one\n",
    "\treturn solved, poly_eval(solved)"
   ]
  },
  {
   "cell_type": "code",
   "execution_count": 13,
   "metadata": {
    "collapsed": true
   },
   "outputs": [],
   "source": [
    "# now make the fitting lines - the first one moves; \n",
    "# the second fades back in at the end\n",
    "\n",
    "fit_line_color = '0.5'\n",
    "component_1_line, = ax.plot((min_plot, max_plot), \n",
    "\t(min_plot * line_slope_0 + line_intercept_0, max_plot * line_slope_0 + line_intercept_0), \n",
    "\tlw = 3, color = fit_line_color, zorder = 0)\n",
    "component_2_line, = ax.plot((min_plot, max_plot), \n",
    "\t(min_plot * line_slope_0 + line_intercept_0, max_plot * line_slope_0 + line_intercept_0), \n",
    "\tlw = 3, color = fit_line_color, zorder = -2)\n",
    "\n",
    "# and make thin perpendicular connector lines \n",
    "# between each point and the fitting line\n",
    "\n",
    "connector_line = []\n",
    "for i in range(len(data_x)):\n",
    "\t(line_point_x, line_point_y) = get_line_distance_and_perp(line_slope_0, \n",
    "\t\tline_intercept_0, (data_x[i], data_y[i]))[2]\n",
    "\tconnector_line_component, = ax.plot((data_x[i], line_point_x), \n",
    "\t\t(data_y[i], line_point_y), \n",
    "\t\tlw = 1, color = 'r', zorder = -1)\n",
    "\tconnector_line.append(connector_line_component)"
   ]
  },
  {
   "cell_type": "code",
   "execution_count": 14,
   "metadata": {},
   "outputs": [
    {
     "name": "stdout",
     "output_type": "stream",
     "text": [
      "Starting to accumulate animation frames\n"
     ]
    },
    {
     "name": "stderr",
     "output_type": "stream",
     "text": [
      "C:\\Program Files\\Anaconda3\\lib\\site-packages\\matplotlib\\animation.py:1218: UserWarning: MovieWriter imagemagick unavailable\n",
      "  warnings.warn(\"MovieWriter %s unavailable\" % writer)\n"
     ]
    },
    {
     "ename": "ValueError",
     "evalue": "outfile must be *.htm or *.html",
     "output_type": "error",
     "traceback": [
      "\u001b[1;31m---------------------------------------------------------------------------\u001b[0m",
      "\u001b[1;31mValueError\u001b[0m                                Traceback (most recent call last)",
      "\u001b[1;32m<ipython-input-14-e60f7ac3962d>\u001b[0m in \u001b[0;36m<module>\u001b[1;34m()\u001b[0m\n\u001b[0;32m    110\u001b[0m \u001b[1;33m\u001b[0m\u001b[0m\n\u001b[0;32m    111\u001b[0m \u001b[0manim\u001b[0m \u001b[1;33m=\u001b[0m \u001b[0mFuncAnimation\u001b[0m\u001b[1;33m(\u001b[0m\u001b[0mfig\u001b[0m\u001b[1;33m,\u001b[0m \u001b[0mupdate\u001b[0m\u001b[1;33m,\u001b[0m \u001b[0mframes\u001b[0m \u001b[1;33m=\u001b[0m \u001b[0msum\u001b[0m\u001b[1;33m(\u001b[0m\u001b[0mframe_durations\u001b[0m\u001b[1;33m)\u001b[0m\u001b[1;33m,\u001b[0m \u001b[0minterval\u001b[0m \u001b[1;33m=\u001b[0m \u001b[1;36m100\u001b[0m \u001b[1;33m/\u001b[0m \u001b[0msmoothness\u001b[0m\u001b[1;33m,\u001b[0m \u001b[0minit_func\u001b[0m \u001b[1;33m=\u001b[0m \u001b[0minit\u001b[0m\u001b[1;33m,\u001b[0m \u001b[0mblit\u001b[0m \u001b[1;33m=\u001b[0m \u001b[1;32mFalse\u001b[0m\u001b[1;33m)\u001b[0m\u001b[1;33m\u001b[0m\u001b[0m\n\u001b[1;32m--> 112\u001b[1;33m \u001b[0manim\u001b[0m\u001b[1;33m.\u001b[0m\u001b[0msave\u001b[0m\u001b[1;33m(\u001b[0m\u001b[1;34m'animation.gif'\u001b[0m\u001b[1;33m,\u001b[0m \u001b[0mdpi\u001b[0m \u001b[1;33m=\u001b[0m \u001b[1;36m72\u001b[0m\u001b[1;33m,\u001b[0m \u001b[0mwriter\u001b[0m \u001b[1;33m=\u001b[0m \u001b[1;34m'imagemagick'\u001b[0m\u001b[1;33m)\u001b[0m\u001b[1;33m\u001b[0m\u001b[0m\n\u001b[0m\u001b[0;32m    113\u001b[0m \u001b[1;33m\u001b[0m\u001b[0m\n\u001b[0;32m    114\u001b[0m \u001b[0mprint\u001b[0m\u001b[1;33m(\u001b[0m\u001b[1;34m'Done'\u001b[0m\u001b[1;33m)\u001b[0m\u001b[1;33m\u001b[0m\u001b[0m\n",
      "\u001b[1;32mC:\\Program Files\\Anaconda3\\lib\\site-packages\\matplotlib\\animation.py\u001b[0m in \u001b[0;36msave\u001b[1;34m(self, filename, writer, fps, dpi, codec, bitrate, extra_args, metadata, extra_anim, savefig_kwargs)\u001b[0m\n\u001b[0;32m   1249\u001b[0m                                level='helpful')\n\u001b[0;32m   1250\u001b[0m                 \u001b[0mrcParams\u001b[0m\u001b[1;33m[\u001b[0m\u001b[1;34m'savefig.bbox'\u001b[0m\u001b[1;33m]\u001b[0m \u001b[1;33m=\u001b[0m \u001b[1;32mNone\u001b[0m\u001b[1;33m\u001b[0m\u001b[0m\n\u001b[1;32m-> 1251\u001b[1;33m             \u001b[1;32mwith\u001b[0m \u001b[0mwriter\u001b[0m\u001b[1;33m.\u001b[0m\u001b[0msaving\u001b[0m\u001b[1;33m(\u001b[0m\u001b[0mself\u001b[0m\u001b[1;33m.\u001b[0m\u001b[0m_fig\u001b[0m\u001b[1;33m,\u001b[0m \u001b[0mfilename\u001b[0m\u001b[1;33m,\u001b[0m \u001b[0mdpi\u001b[0m\u001b[1;33m)\u001b[0m\u001b[1;33m:\u001b[0m\u001b[1;33m\u001b[0m\u001b[0m\n\u001b[0m\u001b[0;32m   1252\u001b[0m                 \u001b[1;32mfor\u001b[0m \u001b[0manim\u001b[0m \u001b[1;32min\u001b[0m \u001b[0mall_anim\u001b[0m\u001b[1;33m:\u001b[0m\u001b[1;33m\u001b[0m\u001b[0m\n\u001b[0;32m   1253\u001b[0m                     \u001b[1;31m# Clear the initial frame\u001b[0m\u001b[1;33m\u001b[0m\u001b[1;33m\u001b[0m\u001b[0m\n",
      "\u001b[1;32mC:\\Program Files\\Anaconda3\\lib\\contextlib.py\u001b[0m in \u001b[0;36m__enter__\u001b[1;34m(self)\u001b[0m\n\u001b[0;32m     79\u001b[0m     \u001b[1;32mdef\u001b[0m \u001b[0m__enter__\u001b[0m\u001b[1;33m(\u001b[0m\u001b[0mself\u001b[0m\u001b[1;33m)\u001b[0m\u001b[1;33m:\u001b[0m\u001b[1;33m\u001b[0m\u001b[0m\n\u001b[0;32m     80\u001b[0m         \u001b[1;32mtry\u001b[0m\u001b[1;33m:\u001b[0m\u001b[1;33m\u001b[0m\u001b[0m\n\u001b[1;32m---> 81\u001b[1;33m             \u001b[1;32mreturn\u001b[0m \u001b[0mnext\u001b[0m\u001b[1;33m(\u001b[0m\u001b[0mself\u001b[0m\u001b[1;33m.\u001b[0m\u001b[0mgen\u001b[0m\u001b[1;33m)\u001b[0m\u001b[1;33m\u001b[0m\u001b[0m\n\u001b[0m\u001b[0;32m     82\u001b[0m         \u001b[1;32mexcept\u001b[0m \u001b[0mStopIteration\u001b[0m\u001b[1;33m:\u001b[0m\u001b[1;33m\u001b[0m\u001b[0m\n\u001b[0;32m     83\u001b[0m             \u001b[1;32mraise\u001b[0m \u001b[0mRuntimeError\u001b[0m\u001b[1;33m(\u001b[0m\u001b[1;34m\"generator didn't yield\"\u001b[0m\u001b[1;33m)\u001b[0m \u001b[1;32mfrom\u001b[0m \u001b[1;32mNone\u001b[0m\u001b[1;33m\u001b[0m\u001b[0m\n",
      "\u001b[1;32mC:\\Program Files\\Anaconda3\\lib\\site-packages\\matplotlib\\animation.py\u001b[0m in \u001b[0;36msaving\u001b[1;34m(self, fig, outfile, dpi, *args, **kwargs)\u001b[0m\n\u001b[0;32m    231\u001b[0m         '''\n\u001b[0;32m    232\u001b[0m         \u001b[1;31m# This particular sequence is what contextlib.contextmanager wants\u001b[0m\u001b[1;33m\u001b[0m\u001b[1;33m\u001b[0m\u001b[0m\n\u001b[1;32m--> 233\u001b[1;33m         \u001b[0mself\u001b[0m\u001b[1;33m.\u001b[0m\u001b[0msetup\u001b[0m\u001b[1;33m(\u001b[0m\u001b[0mfig\u001b[0m\u001b[1;33m,\u001b[0m \u001b[0moutfile\u001b[0m\u001b[1;33m,\u001b[0m \u001b[0mdpi\u001b[0m\u001b[1;33m,\u001b[0m \u001b[1;33m*\u001b[0m\u001b[0margs\u001b[0m\u001b[1;33m,\u001b[0m \u001b[1;33m**\u001b[0m\u001b[0mkwargs\u001b[0m\u001b[1;33m)\u001b[0m\u001b[1;33m\u001b[0m\u001b[0m\n\u001b[0m\u001b[0;32m    234\u001b[0m         \u001b[1;32mtry\u001b[0m\u001b[1;33m:\u001b[0m\u001b[1;33m\u001b[0m\u001b[0m\n\u001b[0;32m    235\u001b[0m             \u001b[1;32myield\u001b[0m \u001b[0mself\u001b[0m\u001b[1;33m\u001b[0m\u001b[0m\n",
      "\u001b[1;32mC:\\Program Files\\Anaconda3\\lib\\site-packages\\matplotlib\\animation.py\u001b[0m in \u001b[0;36msetup\u001b[1;34m(self, fig, outfile, dpi, frame_dir)\u001b[0m\n\u001b[0;32m    939\u001b[0m     \u001b[1;32mdef\u001b[0m \u001b[0msetup\u001b[0m\u001b[1;33m(\u001b[0m\u001b[0mself\u001b[0m\u001b[1;33m,\u001b[0m \u001b[0mfig\u001b[0m\u001b[1;33m,\u001b[0m \u001b[0moutfile\u001b[0m\u001b[1;33m,\u001b[0m \u001b[0mdpi\u001b[0m\u001b[1;33m,\u001b[0m \u001b[0mframe_dir\u001b[0m\u001b[1;33m=\u001b[0m\u001b[1;32mNone\u001b[0m\u001b[1;33m)\u001b[0m\u001b[1;33m:\u001b[0m\u001b[1;33m\u001b[0m\u001b[0m\n\u001b[0;32m    940\u001b[0m         \u001b[1;32mif\u001b[0m \u001b[0mos\u001b[0m\u001b[1;33m.\u001b[0m\u001b[0mpath\u001b[0m\u001b[1;33m.\u001b[0m\u001b[0msplitext\u001b[0m\u001b[1;33m(\u001b[0m\u001b[0moutfile\u001b[0m\u001b[1;33m)\u001b[0m\u001b[1;33m[\u001b[0m\u001b[1;33m-\u001b[0m\u001b[1;36m1\u001b[0m\u001b[1;33m]\u001b[0m \u001b[1;32mnot\u001b[0m \u001b[1;32min\u001b[0m \u001b[1;33m[\u001b[0m\u001b[1;34m'.html'\u001b[0m\u001b[1;33m,\u001b[0m \u001b[1;34m'.htm'\u001b[0m\u001b[1;33m]\u001b[0m\u001b[1;33m:\u001b[0m\u001b[1;33m\u001b[0m\u001b[0m\n\u001b[1;32m--> 941\u001b[1;33m             \u001b[1;32mraise\u001b[0m \u001b[0mValueError\u001b[0m\u001b[1;33m(\u001b[0m\u001b[1;34m\"outfile must be *.htm or *.html\"\u001b[0m\u001b[1;33m)\u001b[0m\u001b[1;33m\u001b[0m\u001b[0m\n\u001b[0m\u001b[0;32m    942\u001b[0m \u001b[1;33m\u001b[0m\u001b[0m\n\u001b[0;32m    943\u001b[0m         \u001b[1;32mif\u001b[0m \u001b[1;32mnot\u001b[0m \u001b[0mself\u001b[0m\u001b[1;33m.\u001b[0m\u001b[0membed_frames\u001b[0m\u001b[1;33m:\u001b[0m\u001b[1;33m\u001b[0m\u001b[0m\n",
      "\u001b[1;31mValueError\u001b[0m: outfile must be *.htm or *.html"
     ]
    }
   ],
   "source": [
    "# plot the data points\n",
    "\n",
    "ax.plot(data_x, data_y, marker = \"o\", \n",
    "\tmarkerfacecolor = 'red', **marker_style, zorder = 0)\n",
    "\n",
    "# set the animation parameters, line states, and expected motion paths\n",
    "\n",
    "smoothness = 1 # controls the temporal resolution; essentially a multiple of\n",
    "# the frame rate; 1 is good for prototyping, and 5 is very smooth\n",
    "\n",
    "# define the duration of each segment of the fitting animation\n",
    "\n",
    "frame_list = [['fadein', 6],\n",
    "\t['fadein_pause', 2],\n",
    "\t['intercept_oscillate', 8],\n",
    "\t['intercept_pause', 0],\n",
    "\t['slope_oscillate', 8],\n",
    "\t['slope_pause', 2],\n",
    "\t['poly_oscillate', 8],\n",
    "\t['poly_pause', 2],\n",
    "\t['fadeout', 6],\n",
    "\t['fadeout_pause', 2]]\n",
    "\n",
    "# define some useful frame parameters\n",
    "\n",
    "frame_names = [i[0] for i in frame_list]\n",
    "frame_durations = [smoothness * i[1] for i in frame_list]\n",
    "\n",
    "# define some useful time references\n",
    "\n",
    "def time_past(period): # total time before a certain segment\n",
    "\treturn sum(frame_durations[0:frame_names.index(period)])\n",
    "def time_future(period): # total time including a certain segment\n",
    "\treturn sum(frame_durations[0:frame_names.index(period) + 1])\n",
    "def time_present(period): # duration of a certain segment\n",
    "\treturn frame_durations[frame_names.index(period)]\n",
    "def norm_time(i, period): # how far we are into a certain segment\n",
    "\treturn (i - time_past(period)) / time_present(period)\n",
    "def effective_time(i, period): # used as the time in the oscillation function\n",
    "\treturn (i - time_past(period)) / smoothness\n",
    "\t\t\n",
    "# define the aspects of the animation function\n",
    "\n",
    "def init():\n",
    "\treturn (component_1_line, component_2_line, connector_line,)\n",
    "\n",
    "print(\"Starting to accumulate animation frames\")\n",
    "\n",
    "def update(i):\n",
    "\tprint(f\"Frame: {i+1}\")\n",
    "\tif i == 0:\n",
    "\t\tcomponent_2_line.set_alpha(0) # the second line is set as invisible\n",
    "\t\tcomponent_1_line.set_alpha(1) # the first line is set as visible\n",
    "\t\tfor j in range(len(data_x)): # set all the connector lines\n",
    "\t\t\t(line_point_x, line_point_y) = get_line_distance_and_perp(line_slope_0, \n",
    "\t\t\t\tline_intercept_0, (data_x[j], data_y[j]))[-1]\n",
    "\t\t\tconnector_line[j].set_xdata((data_x[j], line_point_x))\n",
    "\t\t\tconnector_line[j].set_ydata((data_y[j], line_point_y))\n",
    "\tif i <= time_future('fadein'): # this is the component line fade-in part\n",
    "\t\tfor j in range(len(data_x)): # the connector lines fade in\n",
    "\t\t\tconnector_line[j].set_alpha(min(norm_time(i, 'fadein'), 1))\n",
    "\telif i <= time_future('fadein_pause'): # pause if desired\n",
    "\t\tpass\n",
    "\telif i <= time_future('intercept_oscillate'): # this the line translation part\n",
    "\t\t(line_slope, line_intercept) = get_line(line_distance_diff, slope_angle_diff, \n",
    "\t\t\t(average_x, average_y), effective_time(i, 'intercept_oscillate'), \"int\")[0:2]\n",
    "\t\tcomponent_1_line.set_ydata((min_plot * line_slope + line_intercept, max_plot * line_slope + line_intercept))\n",
    "\t\tfor j in range(len(data_x)):\n",
    "\t\t\t(line_point_x, line_point_y) = get_line_distance_and_perp(line_slope, \n",
    "\t\t\t\tline_intercept, (data_x[j], data_y[j]))[-1]\n",
    "\t\t\tconnector_line[j].set_xdata((data_x[j], line_point_x))\n",
    "\t\t\tconnector_line[j].set_ydata((data_y[j], line_point_y))\n",
    "\telif i <= time_future('intercept_pause'): # pause if desired\n",
    "\t\tpass\n",
    "\telif i <= time_future('slope_oscillate'): # this is the line rotation part\n",
    "\t\t(line_slope, line_intercept) = get_line(0, slope_angle_diff, (average_x, average_y), \n",
    "\t\t\teffective_time(i, 'slope_oscillate'), \"slope\")[0:2]\n",
    "\t\tcomponent_1_line.set_ydata((min_plot * line_slope + line_intercept, max_plot * line_slope + line_intercept))\n",
    "\t\tfor j in range(len(data_x)):\n",
    "\t\t\t(line_point_x, line_point_y) = get_line_distance_and_perp(line_slope, \n",
    "\t\t\t\tline_intercept, (data_x[j], data_y[j]))[-1]\n",
    "\t\t\tconnector_line[j].set_xdata((data_x[j], line_point_x))\n",
    "\t\t\tconnector_line[j].set_ydata((data_y[j], line_point_y))\n",
    "\telif i <= time_future('slope_pause'):\t# pause if desired\n",
    "\t\tpass\n",
    "\telif i <= time_future('poly_oscillate'): # this is the polynomial part\n",
    "\t\tcomponent_1_line.set_xdata(x_spaced)\n",
    "\t\t(trans_poly_fit, trans_poly_eval) = get_polynomial(data_slope, data_intercept, poly_distances, \n",
    "\t\t\teffective_time(i, 'poly_oscillate'))\n",
    "\t\tcomponent_1_line.set_ydata(trans_poly_eval(x_spaced))\n",
    "\t\tfor j in range(len(data_x)):\n",
    "\t \t\t(x_closest_point, y_closest_point) = get_closest_point(trans_poly_fit, trans_poly_eval, (data_x[j], data_y[j]))\n",
    "\t \t\tconnector_line[j].set_xdata((data_x[j], x_closest_point))\n",
    "\t \t\tconnector_line[j].set_ydata((data_y[j], y_closest_point))\n",
    "\telif i <= time_future('poly_pause'): # pause if desired\n",
    "\t\tpass\n",
    "\telif i <= time_future('fadeout'): \n",
    "\t\t# fade from the correctly fitted line to the original line\n",
    "\t\t# speed up the fade-out a little relative to the fade-in\n",
    "\t\tfade_speedup = 2\n",
    "\t\tfor j in range(len(data_x)):\n",
    "\t\t\tconnector_line[j].set_alpha(max(1 -\tfade_speedup * norm_time(i, 'fadeout'), 0))\n",
    "\t\tcomponent_1_line.set_alpha(max(1 - fade_speedup * norm_time(i, 'fadeout'), 0))\n",
    "\t\tcomponent_2_line.set_alpha(min(norm_time(i, 'fadeout'), 1))\n",
    "\telif i <= time_future('fadeout_pause'): # pause if desired \n",
    "\t\tpass\t\t\n",
    "\treturn (component_1_line, component_2_line, connector_line,)\n",
    "\n",
    "# implement the animation and save the results \n",
    "\n",
    "anim = FuncAnimation(fig, update, frames = sum(frame_durations), interval = 100 / smoothness, init_func = init, blit = False)\n",
    "anim.save('animation.gif', dpi = 72, writer = 'imagemagick')\n",
    "\n",
    "print('Done')"
   ]
  },
  {
   "cell_type": "code",
   "execution_count": null,
   "metadata": {
    "collapsed": true
   },
   "outputs": [],
   "source": []
  }
 ],
 "metadata": {
  "kernelspec": {
   "display_name": "Python 3",
   "language": "python",
   "name": "python3"
  },
  "language_info": {
   "codemirror_mode": {
    "name": "ipython",
    "version": 3
   },
   "file_extension": ".py",
   "mimetype": "text/x-python",
   "name": "python",
   "nbconvert_exporter": "python",
   "pygments_lexer": "ipython3",
   "version": "3.6.4"
  }
 },
 "nbformat": 4,
 "nbformat_minor": 2
}
